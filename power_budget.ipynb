{
 "cells": [
  {
   "cell_type": "markdown",
   "id": "345629e7-317f-4add-a95e-5dbbc763caa7",
   "metadata": {},
   "source": [
    "### We'll be calculating an example power budget for a satellite integrating our theoretical specialized compression unit "
   ]
  },
  {
   "cell_type": "markdown",
   "id": "2c625997-f5de-4ae9-9320-374d16d01701",
   "metadata": {},
   "source": [
    "#### A simple example power budget for a 6U satellite \n",
    "Power consumed"
   ]
  },
  {
   "cell_type": "markdown",
   "id": "dae26971-cb99-4863-88ea-37a6f56a5e37",
   "metadata": {},
   "source": [
    "| Subsystem                        | Power (W) | Time (min/orbit) | Energy (W·min/orbit) |\n",
    "|----------------------------------|-----------|------------------|----------------------|\n",
    "| EnduroSat OBC                    | 1.8       | 90               | 162                  |\n",
    "| CubeSpace ADCS                   | 3.5       | 30               | 105                  |\n",
    "| EnduroSat UHF Transceiver         | 4.0 (TX) / 0.1 (RX) | 10 / 80      | 40 / 8               |\n",
    "| Cimera Camera (Payload)           | 6.5       | 5                | 32.5                 |\n",
    "| Thermal Control (Passive)         | 0.2       | 90               | 18                   |\n",
    "| **Total Energy Consumption**      |           |                  | 365.5                |\n"
   ]
  },
  {
   "cell_type": "markdown",
   "id": "39aed708-5e69-4fc4-bfab-2afcf4a9c804",
   "metadata": {},
   "source": [
    "Power generated solar panel output during sunlight (assumed):\n",
    "| Solar Panel Configuration        | Area (m²) | Efficiency (%) | Solar Irradiance (W/m²) | Panels | Angle (cos θ) | Power Generated (W) |\n",
    "|----------------------------------|-----------|----------------|-------------------------|--------|---------------|---------------------|\n",
    "| EnduroSat Deployable Panels (6U) | 0.06      | 29             | 1367                    | 4      | 1             | 95.2                |\n"
   ]
  },
  {
   "cell_type": "markdown",
   "id": "d20009db-aa9a-4630-b278-dc1a4c706b1e",
   "metadata": {},
   "source": [
    "If the satellite spends around 60 minutes in sunlight, the total energy generated during one orbit would be:\n",
    "\n",
    "Energy generated per orbit=95.2W×60min=**5712 W/h (per orbit)**\n",
    "\n",
    "The worst-case power generation for the EnduroSat solar panel configuration, assuming an incident angle of 60° (with cos⁡(60∘)=0.5cos(60∘)=0.5), is approximately **47.57 W**, which is **2854,2 W/h**.\n",
    "\n",
    "Now, this is for deployable solar panels. Let's do the worst case calculation for one regular 6U solar panel (not deployable):\n",
    "\n",
    "```\n",
    "Best case: 19.2W (taken from https://www.endurosat.com/products/6u-solar-panel/) per side\n",
    "\n",
    "Worst case: 19.2W × 0.5=9.6W per side\n",
    "```\n",
    "\n",
    "Now, let's asssume we have only two sides of the satellite covered with these pannels. That would be \n",
    "```\n",
    "\n",
    "Best case 19.2Wx2 * 60min = 2304 W/h\n",
    "\n",
    "Worst case: 9.6Wx2 * 60min = 1152 W/h\n",
    "```\n",
    "\n",
    "In LEO, the time a satellite spends in sunlight is generally about 60% of each orbit, while the remaining 40% is spent in the Earth's shadow (eclipse). That means that we get 60min of sunlight and 40min of eclipse. The satellite gets **1152W** in one of the worst cases of power generation and has to keep that in the battery and use it for 40 minutes. "
   ]
  },
  {
   "cell_type": "markdown",
   "id": "ceb40194-120a-4756-9408-0f3b2cad89a8",
   "metadata": {},
   "source": [
    "Let’s estimate the worst-case scenario for a custom board:\n",
    "\n",
    "    iCE40 UltraPlus (full utilization): ~1 W\n",
    "    MSP430 (active mode): ~10 mW\n",
    "    RS485 transceiver (active): ~100 mW\n",
    "    CAN transceiver (active): ~200 mW\n",
    "\n",
    "Total Power Consumption Estimate:\n",
    "\n",
    "    Total with CAN: 1 W (FPGA) + 0.01 W (MSP430) + 0.2 W (CAN) = 1.21 W\n",
    "    Total with RS845: 1 W (FPGA) + 0.01 W (MSP430) + 0.1 W (RS485) = 1.11 W\n",
    "\n",
    "So, let's assume that the consumption of our custom Compression Unit board will be about **1.5W**"
   ]
  },
  {
   "cell_type": "markdown",
   "id": "c3a264cb-b81a-4590-8ab4-5c489cb47cea",
   "metadata": {},
   "source": [
    "#### Power budget for a 6U satellite with a Compression Unit on-board\n",
    "\n",
    "Let's say our compression board will be used for 30 minutes each orbit"
   ]
  },
  {
   "cell_type": "markdown",
   "id": "9ffb967d-9b94-4ac1-9502-a69c65cfeb86",
   "metadata": {},
   "source": [
    "| Subsystem                        | Power (W) | Time (min/orbit) | Energy (W·min/orbit) |\n",
    "|----------------------------------|-----------|------------------|----------------------|\n",
    "| EnduroSat OBC                    | 1.8       | 90               | 162                  |\n",
    "| CubeSpace ADCS                   | 3.5       | 30               | 105                  |\n",
    "| EnduroSat UHF Transceiver         | 4.0 (TX) / 0.1 (RX) | 10 / 80      | 40 / 8               |\n",
    "| Cimera Camera (Payload)           | 6.5       | 5                | 32.5                 |\n",
    "| Compression Unit                 | 1.5       | 30               | 45                   |\n",
    "| Thermal Control (Passive)         | 0.2       | 90               | 18                   |\n",
    "| **Total Energy Consumption**      |           |                  | 410.5                |\n"
   ]
  },
  {
   "cell_type": "markdown",
   "id": "956f5eaf-0091-4d46-92f5-9a313dd3a9d9",
   "metadata": {},
   "source": [
    "```\n",
    "1152 W/h - 410.5 W/h = 741,5 W surplus\n",
    "```"
   ]
  },
  {
   "cell_type": "code",
   "execution_count": null,
   "id": "124145b7-9b12-407b-b269-5d5d68c597f4",
   "metadata": {},
   "outputs": [],
   "source": []
  }
 ],
 "metadata": {
  "kernelspec": {
   "display_name": "Python 3 (ipykernel)",
   "language": "python",
   "name": "python3"
  },
  "language_info": {
   "codemirror_mode": {
    "name": "ipython",
    "version": 3
   },
   "file_extension": ".py",
   "mimetype": "text/x-python",
   "name": "python",
   "nbconvert_exporter": "python",
   "pygments_lexer": "ipython3",
   "version": "3.13.0"
  }
 },
 "nbformat": 4,
 "nbformat_minor": 5
}
